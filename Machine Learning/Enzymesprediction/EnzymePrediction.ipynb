{
  "nbformat": 4,
  "nbformat_minor": 0,
  "metadata": {
    "colab": {
      "provenance": [],
      "gpuType": "T4"
    },
    "kernelspec": {
      "name": "python3",
      "display_name": "Python 3"
    },
    "language_info": {
      "name": "python"
    },
    "accelerator": "GPU"
  },
  "cells": [
    {
      "cell_type": "code",
      "source": [
        "pip install kaggle"
      ],
      "metadata": {
        "id": "FP15J0vQScEU"
      },
      "execution_count": null,
      "outputs": []
    },
    {
      "cell_type": "code",
      "execution_count": null,
      "metadata": {
        "id": "wW-WIUGwRn_i"
      },
      "outputs": [],
      "source": [
        "! mkdir ~/.kaggle"
      ]
    },
    {
      "cell_type": "code",
      "source": [
        "! cp kaggle.json ~/.kaggle/"
      ],
      "metadata": {
        "id": "8DqKFzwhSYfI"
      },
      "execution_count": null,
      "outputs": []
    },
    {
      "cell_type": "code",
      "source": [
        "! chmod 600 ~/.kaggle/kaggle.json"
      ],
      "metadata": {
        "id": "393cHCwmTdeq"
      },
      "execution_count": null,
      "outputs": []
    },
    {
      "cell_type": "code",
      "source": [
        "! kaggle datasets download -d andrewmvd/heart-failure-clinical-data"
      ],
      "metadata": {
        "id": "ctMsR9S3TyuQ"
      },
      "execution_count": null,
      "outputs": []
    },
    {
      "cell_type": "code",
      "source": [
        "!unzip /content/heart-failure-clinical-data.zip -d /content/heartfailure/"
      ],
      "metadata": {
        "colab": {
          "base_uri": "https://localhost:8080/"
        },
        "id": "9bXkL2KOT2u4",
        "outputId": "b655a989-eff7-4064-b7c8-9261d2088dd7"
      },
      "execution_count": null,
      "outputs": [
        {
          "output_type": "stream",
          "name": "stdout",
          "text": [
            "Archive:  /content/heart-failure-clinical-data.zip\n",
            "replace /content/heartfailure/heart_failure_clinical_records_dataset.csv? [y]es, [n]o, [A]ll, [N]one, [r]ename: "
          ]
        }
      ]
    },
    {
      "cell_type": "code",
      "source": [
        "import numpy as np\n",
        "import pandas as pd\n",
        "\n",
        "df = pd.read_csv(\"/content/heartfailure/heart_failure_clinical_records_dataset.csv\")"
      ],
      "metadata": {
        "id": "2_ii3A_iUQik"
      },
      "execution_count": null,
      "outputs": []
    },
    {
      "cell_type": "code",
      "source": [
        "df"
      ],
      "metadata": {
        "id": "qZma-hEXUnqN"
      },
      "execution_count": null,
      "outputs": []
    },
    {
      "cell_type": "code",
      "source": [
        "df.describe()"
      ],
      "metadata": {
        "id": "iQLsUKQchfsi"
      },
      "execution_count": null,
      "outputs": []
    },
    {
      "cell_type": "code",
      "source": [
        "df.corr()"
      ],
      "metadata": {
        "id": "4geqR4PDgCg8"
      },
      "execution_count": null,
      "outputs": []
    },
    {
      "cell_type": "code",
      "source": [
        "import seaborn as sns\n",
        "import matplotlib.pyplot as plt\n"
      ],
      "metadata": {
        "id": "wcXrJVJQUo4Z"
      },
      "execution_count": null,
      "outputs": []
    },
    {
      "cell_type": "code",
      "source": [
        "fig, ax = plt.subplots(figsize=(4, 5))\n",
        "plt.scatter(df['age'],df['DEATH_EVENT'])"
      ],
      "metadata": {
        "id": "pPr4bVPaXPsn"
      },
      "execution_count": null,
      "outputs": []
    },
    {
      "cell_type": "code",
      "source": [
        "sns.barplot(x=df['age'],y=df['DEATH_EVENT'])"
      ],
      "metadata": {
        "id": "nvJDakIFXjAa"
      },
      "execution_count": null,
      "outputs": []
    },
    {
      "cell_type": "code",
      "source": [
        "df.columns"
      ],
      "metadata": {
        "id": "GYBDozt8bgr5"
      },
      "execution_count": null,
      "outputs": []
    },
    {
      "cell_type": "code",
      "source": [
        "sns.barplot(x=df['age'],y=df['sex'],hue='DEATH_EVENT',data=df)"
      ],
      "metadata": {
        "id": "-txMmMcVcVg9"
      },
      "execution_count": null,
      "outputs": []
    },
    {
      "cell_type": "code",
      "source": [
        "df.info()"
      ],
      "metadata": {
        "id": "cQt5W43bdSRq"
      },
      "execution_count": null,
      "outputs": []
    },
    {
      "cell_type": "code",
      "source": [
        "df.isnull().any()"
      ],
      "metadata": {
        "id": "mvDZWE0weAIs"
      },
      "execution_count": null,
      "outputs": []
    },
    {
      "cell_type": "code",
      "source": [
        "df.describe()"
      ],
      "metadata": {
        "id": "8z1uoy_0eEwu"
      },
      "execution_count": null,
      "outputs": []
    },
    {
      "cell_type": "code",
      "source": [
        "fig = plt.subplots(figsize=(15,15))\n",
        "sns.heatmap(df.corr(),annot=True,fmt='.1f')"
      ],
      "metadata": {
        "id": "yrSFlGs3eUpA"
      },
      "execution_count": null,
      "outputs": []
    },
    {
      "cell_type": "code",
      "source": [
        "df.drop(['time','ejection_fraction','serum_sodium'],axis=True,inplace=True)"
      ],
      "metadata": {
        "id": "5uMhjk59zdjj"
      },
      "execution_count": null,
      "outputs": []
    },
    {
      "cell_type": "code",
      "source": [
        "df.head(5)"
      ],
      "metadata": {
        "id": "uGodR0YM0lzj"
      },
      "execution_count": null,
      "outputs": []
    },
    {
      "cell_type": "code",
      "source": [
        "from sklearn.model_selection import train_test_split"
      ],
      "metadata": {
        "id": "TXGlq5XJecns"
      },
      "execution_count": null,
      "outputs": []
    },
    {
      "cell_type": "code",
      "source": [
        "x = df.drop(['DEATH_EVENT'],axis=1)\n",
        "y = df.DEATH_EVENT"
      ],
      "metadata": {
        "id": "W9rC5EMZe9hx"
      },
      "execution_count": null,
      "outputs": []
    },
    {
      "cell_type": "code",
      "source": [
        "x_train, x_test, y_train, y_test = train_test_split(x,y,test_size=0.30,random_state=42)"
      ],
      "metadata": {
        "id": "_-UAVtSN7unU"
      },
      "execution_count": null,
      "outputs": []
    },
    {
      "cell_type": "code",
      "source": [
        "# Load Models\n",
        "from sklearn.linear_model import LogisticRegression\n",
        "from sklearn.tree import DecisionTreeClassifier\n",
        "from sklearn.neighbors import KNeighborsClassifier\n",
        "from sklearn.ensemble import RandomForestClassifier\n",
        "from sklearn.naive_bayes import GaussianNB\n",
        "from sklearn.svm import SVC\n",
        "from sklearn.ensemble import AdaBoostClassifier\n",
        "import xgboost as xgb\n",
        "\n"
      ],
      "metadata": {
        "id": "hp6ty0H-70KB"
      },
      "execution_count": null,
      "outputs": []
    },
    {
      "cell_type": "code",
      "source": [
        "#  model evaluation function\n",
        "from sklearn.metrics import classification_report\n",
        "from sklearn.metrics import confusion_matrix\n",
        "from sklearn.metrics import accuracy_score"
      ],
      "metadata": {
        "id": "xYDbIGtj8WF_"
      },
      "execution_count": null,
      "outputs": []
    },
    {
      "cell_type": "code",
      "source": [
        "from sklearn.model_selection import train_test_split\n",
        "from sklearn.model_selection import cross_val_score\n",
        "from sklearn.model_selection import StratifiedKFold"
      ],
      "metadata": {
        "id": "W11oUPqE8hpy"
      },
      "execution_count": null,
      "outputs": []
    },
    {
      "cell_type": "code",
      "source": [
        "from pandas.plotting import scatter_matrix\n",
        "from matplotlib import pyplot"
      ],
      "metadata": {
        "id": "_e4CaYh98mEk"
      },
      "execution_count": null,
      "outputs": []
    },
    {
      "cell_type": "code",
      "source": [
        "from xgboost.sklearn import XGBClassifier\n",
        "\n",
        "models = []\n",
        "models.append(('LR', LogisticRegression(solver='liblinear', multi_class='ovr')))\n",
        "models.append(('KNN',KNeighborsClassifier()))\n",
        "models.append(('CART', DecisionTreeClassifier()))\n",
        "models.append(('RF', RandomForestClassifier()))\n",
        "models.append(('NB', GaussianNB()))\n",
        "models.append(('SVM', SVC(gamma='auto')))\n",
        "models.append(('ADA', AdaBoostClassifier()))\n",
        "models.append(('XGB', XGBClassifier()))"
      ],
      "metadata": {
        "id": "KPuEKVKa8oU6"
      },
      "execution_count": null,
      "outputs": []
    },
    {
      "cell_type": "code",
      "source": [
        "results =[]\n",
        "names = []\n",
        "\n",
        "for name, model in models:\n",
        "    kfold = StratifiedKFold(n_splits=4, random_state=1, shuffle=True)\n",
        "    cv_result = cross_val_score(model, x_train,y_train, cv=kfold , scoring='accuracy')\n",
        "    results.append(cv_result)\n",
        "    names.append(name)\n",
        "    print(\"cv_result\", cv_result)\n",
        "    print('%s: %f (%f)'% (name, cv_result.mean(), cv_result.std()))\n",
        "    print(\"\")"
      ],
      "metadata": {
        "id": "32nVJRl29IZM"
      },
      "execution_count": null,
      "outputs": []
    },
    {
      "cell_type": "code",
      "source": [
        "# compare Algorithms\n",
        "pyplot.boxplot(results, labels=names)\n",
        "pyplot.title('Algorithm Comparison')\n",
        "pyplot.show()"
      ],
      "metadata": {
        "id": "D1Z2wGZX9TIZ"
      },
      "execution_count": null,
      "outputs": []
    },
    {
      "cell_type": "code",
      "source": [
        "# Make predictions on test dataset\n",
        "from sklearn.preprocessing import StandardScaler\n",
        "scaler = StandardScaler()\n",
        "x_train_scaled = scaler.fit_transform(x_train)\n",
        "model = LogisticRegression()\n",
        "model.fit(x_train_scaled, y_train)"
      ],
      "metadata": {
        "id": "eWZfZljT-SXX"
      },
      "execution_count": null,
      "outputs": []
    },
    {
      "cell_type": "code",
      "source": [
        "prediction = model.predict(x_test)"
      ],
      "metadata": {
        "id": "RP4QDli4-tUj"
      },
      "execution_count": null,
      "outputs": []
    },
    {
      "cell_type": "code",
      "source": [
        "# Evaluate predictions\n",
        "print(accuracy_score(y_test, prediction))\n",
        "print(confusion_matrix(y_test, prediction))\n",
        "print(classification_report(y_test, prediction))"
      ],
      "metadata": {
        "id": "8ttmzmx3BoQw"
      },
      "execution_count": null,
      "outputs": []
    },
    {
      "cell_type": "code",
      "source": [
        "# Make predictions on test dataset\n",
        "from sklearn.preprocessing import StandardScaler\n",
        "scaler = StandardScaler()\n",
        "x_train_scaled = scaler.fit_transform(x_train)\n",
        "model = RandomForestClassifier(n_estimators=200,random_state=42)\n",
        "model.fit(x_train_scaled, y_train)"
      ],
      "metadata": {
        "id": "xke2PFm-BzPg"
      },
      "execution_count": null,
      "outputs": []
    },
    {
      "cell_type": "code",
      "source": [
        "prediction = model.predict(x_test)"
      ],
      "metadata": {
        "id": "M5HvhkcZCOhm"
      },
      "execution_count": null,
      "outputs": []
    },
    {
      "cell_type": "code",
      "source": [
        "# Evaluate predictions\n",
        "print(accuracy_score(y_test, prediction))\n",
        "print(confusion_matrix(y_test, prediction))\n",
        "print(classification_report(y_test, prediction))"
      ],
      "metadata": {
        "id": "PVTvQQl2CTdt"
      },
      "execution_count": null,
      "outputs": []
    },
    {
      "cell_type": "code",
      "source": [
        "from sklearn.ensemble import RandomForestClassifier\n",
        "from sklearn.model_selection import GridSearchCV\n",
        "\n",
        "clf = RandomForestClassifier()\n",
        "param_grid = [\n",
        "    {\"n_estimators\": [10, 100, 200, 500], \"max_depth\": [None, 5, 10], \"min_samples_split\": [2, 3, 4]}\n",
        "]\n",
        "\n",
        "grid_search = GridSearchCV(clf, param_grid, cv=3, scoring=\"accuracy\", return_train_score=True)\n",
        "\n",
        "grid_search.fit(x_train_scaled, y_train)\n"
      ],
      "metadata": {
        "id": "0YILjiasCWYj"
      },
      "execution_count": null,
      "outputs": []
    },
    {
      "cell_type": "code",
      "source": [
        "prod_final_clf = grid_search.best_estimator_"
      ],
      "metadata": {
        "id": "c7e4QoJJC5pf"
      },
      "execution_count": null,
      "outputs": []
    },
    {
      "cell_type": "code",
      "source": [
        "prod_final_clf"
      ],
      "metadata": {
        "id": "eAlEpn2hDYE2"
      },
      "execution_count": null,
      "outputs": []
    },
    {
      "cell_type": "code",
      "source": [
        "predictions = prod_final_clf.predict(x_test)"
      ],
      "metadata": {
        "id": "eKEzbzt8DakK"
      },
      "execution_count": null,
      "outputs": []
    },
    {
      "cell_type": "code",
      "source": [
        "predictions"
      ],
      "metadata": {
        "id": "FsocLkr5DmcJ"
      },
      "execution_count": null,
      "outputs": []
    },
    {
      "cell_type": "code",
      "source": [
        "n_estimators_values = [10, 50, 100, 150, 200]\n",
        "accuracy_scores = []\n",
        "for n_estimators in n_estimators_values:\n",
        "    # Create the Random Forest Classifier\n",
        "    rf_classifier = RandomForestClassifier(n_estimators=n_estimators, random_state=42)\n",
        "\n",
        "    # Train the model on the training data\n",
        "    rf_classifier.fit(x_train, y_train)\n",
        "\n",
        "    # Make predictions on the test data\n",
        "    y_pred = rf_classifier.predict(x_test)\n",
        "\n",
        "    # Calculate the accuracy of the model and append to the list\n",
        "    accuracy = accuracy_score(y_test, y_pred)\n",
        "    accuracy_scores.append(accuracy)\n",
        "\n",
        "# Plot the accuracy scores\n",
        "plt.plot(n_estimators_values, accuracy_scores, marker='o')\n",
        "plt.xlabel('Number of Trees (n_estimators)')\n",
        "plt.ylabel('Accuracy')\n",
        "plt.title('Accuracy vs. Number of Trees in Random Forest')\n",
        "plt.grid(True)\n",
        "plt.show()"
      ],
      "metadata": {
        "id": "DAVPxaclDoJa"
      },
      "execution_count": null,
      "outputs": []
    },
    {
      "cell_type": "code",
      "source": [],
      "metadata": {
        "id": "ttr7mp9VA1gy"
      },
      "execution_count": null,
      "outputs": []
    }
  ]
}